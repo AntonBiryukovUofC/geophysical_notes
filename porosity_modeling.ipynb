{
 "cells": [
  {
   "cell_type": "markdown",
   "metadata": {},
   "source": [
    "# Elastic properties variation with changing porosity \n",
    "\n",
    "Showing how elastic properties of reservoir rocks vary upon changes of porosity.\n",
    "\n",
    "(ref. internal, unpublished report by Cristiana Panzeri)."
   ]
  },
  {
   "cell_type": "markdown",
   "metadata": {},
   "source": [
    "**rewrite of original text**\n",
    "\n",
    "### Scope of Work\n",
    "\n",
    "We investigate different ways to predicting the change of the elastic properties of a rock upon variations in porosity. This could be important in areas where lateral heterogeneity is high or simply when unexpected facies change lead to modification in the expected seismic amplitude signature which cannot be attributed to the most commonly assumed factor, i.e. fluid changes.\n",
    "\n",
    "Porosity variations could be due to different causes, and different approaches should be used. Reduction in porosity associated with an increase of cementing should be model differently from reduction in porosity associated with a deterioration of sorting. The aim of this work is also to try and understand the process that has affected porosity; for this reason different approaches should be used in order to understand the most appropriate to describe the real situation.\n",
    "\n",
    "### Methods\n",
    "\n",
    "~~Four methods are investigated, one based on a theoretical rock physics model (_contact cement_ by Dvorkin & Nur, 1996), one based on the empirical _critical porosity_ model by Nur et al. (1991, 1995), another empirical model based on the _pore stiffness method_ (Russell & Smith, 2007) and finally a simple empirical fit based on Gassmann's equation.~~\n",
    "\n",
    "Three different approaches are investigated: the first one is based on using any a theoretical rock physics model where the dry rock frame is expressed as a function of porosity, i.e., a granular media model such the _contact cement_ (Dvorkin & Nur, 1996) or those based on Hertz-Mindlin contact theory like  _soft sand_ and _stiff sand_ models, or inclusion models like _Kuster-Toksoz_ (and its direct relative, _Xu-White_ model).\n",
    "\n",
    "The second approach relatives derivations cement_ by ), one based on the empirical _critical porosity_ model by Nur et al. (1991, 1995), another empirical model based on the _pore stiffness method_ (Russell & Smith, 2007) and finally a simple empirical fit based on Gassmann's equation.\n",
    "\n",
    "\n",
    "#### aaa\n",
    "\n",
    "#### critical porosity model\n",
    "\n",
    "$$ K_{dry} = (1 - \\phi / \\phi_c) K_m $$\n"
   ]
  },
  {
   "cell_type": "code",
   "execution_count": 3,
   "metadata": {
    "collapsed": false
   },
   "outputs": [],
   "source": [
    "import numpy as np\n",
    "import matplotlib.pyplot as plt\n",
    "from las import LASReader\n",
    "from __future__ import division\n",
    "\n",
    "%matplotlib inline\n",
    "# comment out the following if you're not on a Mac with HiDPI display\n",
    "%config InlineBackend.figure_format = 'retina'"
   ]
  },
  {
   "cell_type": "code",
   "execution_count": null,
   "metadata": {
    "collapsed": true
   },
   "outputs": [],
   "source": []
  }
 ],
 "metadata": {
  "kernelspec": {
   "display_name": "Python 2",
   "language": "python",
   "name": "python2"
  },
  "language_info": {
   "codemirror_mode": {
    "name": "ipython",
    "version": 2
   },
   "file_extension": ".py",
   "mimetype": "text/x-python",
   "name": "python",
   "nbconvert_exporter": "python",
   "pygments_lexer": "ipython2",
   "version": "2.7.11"
  }
 },
 "nbformat": 4,
 "nbformat_minor": 0
}
